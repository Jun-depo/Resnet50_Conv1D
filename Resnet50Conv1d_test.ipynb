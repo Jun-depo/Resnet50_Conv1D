{
 "cells": [
  {
   "cell_type": "code",
   "execution_count": 1,
   "metadata": {},
   "outputs": [
    {
     "name": "stderr",
     "output_type": "stream",
     "text": [
      "Using TensorFlow backend.\n"
     ]
    }
   ],
   "source": [
    "from os import listdir, makedirs\n",
    "from os.path import join\n",
    "\n",
    "import numpy as np\n",
    "import pandas as pd\n",
    "\n",
    "# from tqdm import tqdm_notebook\n",
    "\n",
    "import tensorflow as tf\n",
    "\n",
    "import keras\n",
    "from keras.engine.input_layer import Input\n",
    "\n",
    "import matplotlib.pyplot as plt\n",
    "import seaborn as sns\n",
    "\n",
    "from keras.utils import plot_model, to_categorical\n",
    "\n",
    "from keras.models import Sequential, load_model\n",
    "from keras.layers import Activation, Dropout, Flatten, Dense, Conv1D, BatchNormalization\n",
    "\n",
    "from keras.callbacks import ModelCheckpoint\n",
    "from keras import metrics\n",
    "from keras.optimizers import Adam \n",
    "from keras import backend as K\n",
    "\n",
    "import random, os, sys\n",
    "from keras.models import *\n",
    "from keras.layers import *\n",
    "from keras.callbacks import *\n",
    "from keras.initializers import *\n",
    "import tensorflow as tf\n",
    "from keras.engine.topology import Layer\n",
    "\n",
    "pd.set_option('precision', 30)\n",
    "np.set_printoptions(precision = 30)\n",
    "\n",
    "np.random.seed(1)\n"
   ]
  },
  {
   "cell_type": "code",
   "execution_count": 2,
   "metadata": {},
   "outputs": [],
   "source": [
    "data = pd.read_csv(\"../train.csv\", dtype={\"acoustic_data\": np.float32, \"time_to_failure\": np.float32}).values"
   ]
  },
  {
   "cell_type": "code",
   "execution_count": 3,
   "metadata": {},
   "outputs": [],
   "source": [
    "x = data[:,0]\n",
    "y = data[:, 1]"
   ]
  },
  {
   "cell_type": "code",
   "execution_count": 4,
   "metadata": {},
   "outputs": [
    {
     "data": {
      "text/plain": [
       "(629145480,)"
      ]
     },
     "execution_count": 4,
     "metadata": {},
     "output_type": "execute_result"
    }
   ],
   "source": [
    "x.shape"
   ]
  },
  {
   "cell_type": "code",
   "execution_count": 5,
   "metadata": {},
   "outputs": [
    {
     "data": {
      "text/plain": [
       "(629145480,)"
      ]
     },
     "execution_count": 5,
     "metadata": {},
     "output_type": "execute_result"
    }
   ],
   "source": [
    "y.shape"
   ]
  },
  {
   "cell_type": "code",
   "execution_count": 6,
   "metadata": {},
   "outputs": [],
   "source": [
    "def x_ave_pooling(x_s, y_s, step_size=5):\n",
    "    # pooling a single data point to 1/10 of the original length\n",
    "    n = len(x_s)//step_size \n",
    "    \n",
    "    x_temp = x_s[0:n*step_size].reshape(-1, step_size)\n",
    "    x_ave = np.mean(x_temp, axis=1)\n",
    "    return x_ave"
   ]
  },
  {
   "cell_type": "code",
   "execution_count": 7,
   "metadata": {},
   "outputs": [],
   "source": [
    "def get_data(x, y, seq_length=150000, step_size=5, data_spread=10000):\n",
    "    '''Create a generator that returns batches of size\n",
    "       batch_size x seq_length from arr.\n",
    "       \n",
    "       Arguments\n",
    "       ---------\n",
    "       arr: Array you want to make batches from\n",
    "       batch_size: Batch size, the number of sequences per batch\n",
    "       seq_length: Number of encoded chars in a sequence\n",
    "    '''\n",
    "    n_data = len(x)//data_spread\n",
    "    \n",
    "    ## TODO: Get the number of batches we can make\n",
    "    \n",
    "    x_data = []\n",
    "    y_data = []\n",
    "    \n",
    "    for n in range(n_data-14):\n",
    "\n",
    "        x_temp = x[n*data_spread:(n*data_spread + seq_length)]\n",
    "        y_temp = y[n*data_spread + seq_length-1]\n",
    "        \n",
    "        x_ave = x_ave_pooling(x_temp, step_size)\n",
    "        \n",
    "        x_data.append(x_ave)\n",
    "        y_data.append(y_temp)\n",
    "    return np.array(x_data), np.array(y_data) "
   ]
  },
  {
   "cell_type": "code",
   "execution_count": 8,
   "metadata": {},
   "outputs": [],
   "source": [
    "x_data, y_data = get_data(x, y, seq_length=150000, step_size=5)"
   ]
  },
  {
   "cell_type": "code",
   "execution_count": 9,
   "metadata": {},
   "outputs": [
    {
     "data": {
      "text/plain": [
       "(62900, 30000)"
      ]
     },
     "execution_count": 9,
     "metadata": {},
     "output_type": "execute_result"
    }
   ],
   "source": [
    "x_data.shape"
   ]
  },
  {
   "cell_type": "code",
   "execution_count": 10,
   "metadata": {},
   "outputs": [
    {
     "data": {
      "text/plain": [
       "(62900,)"
      ]
     },
     "execution_count": 10,
     "metadata": {},
     "output_type": "execute_result"
    }
   ],
   "source": [
    "y_data.shape"
   ]
  },
  {
   "cell_type": "code",
   "execution_count": 11,
   "metadata": {},
   "outputs": [],
   "source": [
    "x_data_exp = np.expand_dims(x_data, -1)"
   ]
  },
  {
   "cell_type": "code",
   "execution_count": 12,
   "metadata": {},
   "outputs": [
    {
     "data": {
      "text/plain": [
       "(62900, 30000, 1)"
      ]
     },
     "execution_count": 12,
     "metadata": {},
     "output_type": "execute_result"
    }
   ],
   "source": [
    "x_data_exp.shape"
   ]
  },
  {
   "cell_type": "code",
   "execution_count": 13,
   "metadata": {},
   "outputs": [],
   "source": [
    "y_data_exp= y_data.reshape(-1, 1)"
   ]
  },
  {
   "cell_type": "code",
   "execution_count": 14,
   "metadata": {},
   "outputs": [
    {
     "data": {
      "text/plain": [
       "(62900, 1)"
      ]
     },
     "execution_count": 14,
     "metadata": {},
     "output_type": "execute_result"
    }
   ],
   "source": [
    "y_data_exp.shape"
   ]
  },
  {
   "cell_type": "code",
   "execution_count": 15,
   "metadata": {},
   "outputs": [],
   "source": [
    "from sklearn.model_selection import train_test_split"
   ]
  },
  {
   "cell_type": "code",
   "execution_count": 16,
   "metadata": {},
   "outputs": [],
   "source": [
    "x_train, x_test, y_train, y_test = train_test_split(x_data_exp, y_data_exp, test_size=0.2, shuffle= True, random_state=38)"
   ]
  },
  {
   "cell_type": "code",
   "execution_count": 17,
   "metadata": {},
   "outputs": [],
   "source": [
    "from Resnet50Conv1d import identity_block, convolutional_block, ResNet50"
   ]
  },
  {
   "cell_type": "code",
   "execution_count": 18,
   "metadata": {},
   "outputs": [
    {
     "name": "stdout",
     "output_type": "stream",
     "text": [
      "WARNING:tensorflow:From /home/jun4/anaconda3/lib/python3.7/site-packages/tensorflow/python/framework/op_def_library.py:263: colocate_with (from tensorflow.python.framework.ops) is deprecated and will be removed in a future version.\n",
      "Instructions for updating:\n",
      "Colocations handled automatically by placer.\n",
      "WARNING:tensorflow:From /home/jun4/anaconda3/lib/python3.7/site-packages/keras/backend/tensorflow_backend.py:3445: calling dropout (from tensorflow.python.ops.nn_ops) with keep_prob is deprecated and will be removed in a future version.\n",
      "Instructions for updating:\n",
      "Please use `rate` instead of `keep_prob`. Rate should be set to `rate = 1 - keep_prob`.\n",
      "__________________________________________________________________________________________________\n",
      "Layer (type)                    Output Shape         Param #     Connected to                     \n",
      "==================================================================================================\n",
      "input_1 (InputLayer)            (None, 30000, 1)     0                                            \n",
      "__________________________________________________________________________________________________\n",
      "max_pooling1d_1 (MaxPooling1D)  (None, 5999, 1)      0           input_1[0][0]                    \n",
      "__________________________________________________________________________________________________\n",
      "zero_padding1d_1 (ZeroPadding1D (None, 6005, 1)      0           max_pooling1d_1[0][0]            \n",
      "__________________________________________________________________________________________________\n",
      "conv1 (Conv1D)                  (None, 3000, 64)     512         zero_padding1d_1[0][0]           \n",
      "__________________________________________________________________________________________________\n",
      "bn_conv1 (BatchNormalization)   (None, 3000, 64)     256         conv1[0][0]                      \n",
      "__________________________________________________________________________________________________\n",
      "activation_1 (Activation)       (None, 3000, 64)     0           bn_conv1[0][0]                   \n",
      "__________________________________________________________________________________________________\n",
      "max_pooling1d_2 (MaxPooling1D)  (None, 1499, 64)     0           activation_1[0][0]               \n",
      "__________________________________________________________________________________________________\n",
      "res2a_branch2a (Conv1D)         (None, 1499, 16)     1040        max_pooling1d_2[0][0]            \n",
      "__________________________________________________________________________________________________\n",
      "activation_2 (Activation)       (None, 1499, 16)     0           res2a_branch2a[0][0]             \n",
      "__________________________________________________________________________________________________\n",
      "res2a_branch2b (Conv1D)         (None, 1499, 16)     784         activation_2[0][0]               \n",
      "__________________________________________________________________________________________________\n",
      "activation_3 (Activation)       (None, 1499, 16)     0           res2a_branch2b[0][0]             \n",
      "__________________________________________________________________________________________________\n",
      "res2a_branch2c (Conv1D)         (None, 1499, 64)     1088        activation_3[0][0]               \n",
      "__________________________________________________________________________________________________\n",
      "res2a_branch1 (Conv1D)          (None, 1499, 64)     4160        max_pooling1d_2[0][0]            \n",
      "__________________________________________________________________________________________________\n",
      "add_1 (Add)                     (None, 1499, 64)     0           res2a_branch2c[0][0]             \n",
      "                                                                 res2a_branch1[0][0]              \n",
      "__________________________________________________________________________________________________\n",
      "activation_4 (Activation)       (None, 1499, 64)     0           add_1[0][0]                      \n",
      "__________________________________________________________________________________________________\n",
      "res2b_branch2a (Conv1D)         (None, 1499, 16)     1040        activation_4[0][0]               \n",
      "__________________________________________________________________________________________________\n",
      "activation_5 (Activation)       (None, 1499, 16)     0           res2b_branch2a[0][0]             \n",
      "__________________________________________________________________________________________________\n",
      "res2b_branch2b (Conv1D)         (None, 1499, 16)     784         activation_5[0][0]               \n",
      "__________________________________________________________________________________________________\n",
      "activation_6 (Activation)       (None, 1499, 16)     0           res2b_branch2b[0][0]             \n",
      "__________________________________________________________________________________________________\n",
      "res2b_branch2c (Conv1D)         (None, 1499, 64)     1088        activation_6[0][0]               \n",
      "__________________________________________________________________________________________________\n",
      "add_2 (Add)                     (None, 1499, 64)     0           res2b_branch2c[0][0]             \n",
      "                                                                 activation_4[0][0]               \n",
      "__________________________________________________________________________________________________\n",
      "activation_7 (Activation)       (None, 1499, 64)     0           add_2[0][0]                      \n",
      "__________________________________________________________________________________________________\n",
      "res2c_branch2a (Conv1D)         (None, 1499, 16)     1040        activation_7[0][0]               \n",
      "__________________________________________________________________________________________________\n",
      "activation_8 (Activation)       (None, 1499, 16)     0           res2c_branch2a[0][0]             \n",
      "__________________________________________________________________________________________________\n",
      "res2c_branch2b (Conv1D)         (None, 1499, 16)     784         activation_8[0][0]               \n",
      "__________________________________________________________________________________________________\n",
      "activation_9 (Activation)       (None, 1499, 16)     0           res2c_branch2b[0][0]             \n",
      "__________________________________________________________________________________________________\n",
      "res2c_branch2c (Conv1D)         (None, 1499, 64)     1088        activation_9[0][0]               \n",
      "__________________________________________________________________________________________________\n",
      "add_3 (Add)                     (None, 1499, 64)     0           res2c_branch2c[0][0]             \n",
      "                                                                 activation_7[0][0]               \n",
      "__________________________________________________________________________________________________\n",
      "activation_10 (Activation)      (None, 1499, 64)     0           add_3[0][0]                      \n",
      "__________________________________________________________________________________________________\n",
      "res3a_branch2a (Conv1D)         (None, 750, 32)      2080        activation_10[0][0]              \n",
      "__________________________________________________________________________________________________\n",
      "activation_11 (Activation)      (None, 750, 32)      0           res3a_branch2a[0][0]             \n",
      "__________________________________________________________________________________________________\n",
      "res3a_branch2b (Conv1D)         (None, 750, 32)      3104        activation_11[0][0]              \n",
      "__________________________________________________________________________________________________\n",
      "activation_12 (Activation)      (None, 750, 32)      0           res3a_branch2b[0][0]             \n",
      "__________________________________________________________________________________________________\n",
      "res3a_branch2c (Conv1D)         (None, 750, 128)     4224        activation_12[0][0]              \n",
      "__________________________________________________________________________________________________\n",
      "res3a_branch1 (Conv1D)          (None, 750, 128)     8320        activation_10[0][0]              \n",
      "__________________________________________________________________________________________________\n",
      "add_4 (Add)                     (None, 750, 128)     0           res3a_branch2c[0][0]             \n",
      "                                                                 res3a_branch1[0][0]              \n",
      "__________________________________________________________________________________________________\n",
      "activation_13 (Activation)      (None, 750, 128)     0           add_4[0][0]                      \n",
      "__________________________________________________________________________________________________\n",
      "res3b_branch2a (Conv1D)         (None, 750, 32)      4128        activation_13[0][0]              \n",
      "__________________________________________________________________________________________________\n",
      "activation_14 (Activation)      (None, 750, 32)      0           res3b_branch2a[0][0]             \n",
      "__________________________________________________________________________________________________\n",
      "res3b_branch2b (Conv1D)         (None, 750, 32)      3104        activation_14[0][0]              \n",
      "__________________________________________________________________________________________________\n",
      "activation_15 (Activation)      (None, 750, 32)      0           res3b_branch2b[0][0]             \n",
      "__________________________________________________________________________________________________\n",
      "res3b_branch2c (Conv1D)         (None, 750, 128)     4224        activation_15[0][0]              \n",
      "__________________________________________________________________________________________________\n",
      "add_5 (Add)                     (None, 750, 128)     0           res3b_branch2c[0][0]             \n",
      "                                                                 activation_13[0][0]              \n",
      "__________________________________________________________________________________________________\n",
      "activation_16 (Activation)      (None, 750, 128)     0           add_5[0][0]                      \n",
      "__________________________________________________________________________________________________\n",
      "res3c_branch2a (Conv1D)         (None, 750, 32)      4128        activation_16[0][0]              \n",
      "__________________________________________________________________________________________________\n",
      "activation_17 (Activation)      (None, 750, 32)      0           res3c_branch2a[0][0]             \n",
      "__________________________________________________________________________________________________\n",
      "res3c_branch2b (Conv1D)         (None, 750, 32)      3104        activation_17[0][0]              \n",
      "__________________________________________________________________________________________________\n",
      "activation_18 (Activation)      (None, 750, 32)      0           res3c_branch2b[0][0]             \n",
      "__________________________________________________________________________________________________\n",
      "res3c_branch2c (Conv1D)         (None, 750, 128)     4224        activation_18[0][0]              \n",
      "__________________________________________________________________________________________________\n",
      "add_6 (Add)                     (None, 750, 128)     0           res3c_branch2c[0][0]             \n",
      "                                                                 activation_16[0][0]              \n",
      "__________________________________________________________________________________________________\n",
      "activation_19 (Activation)      (None, 750, 128)     0           add_6[0][0]                      \n",
      "__________________________________________________________________________________________________\n",
      "res3d_branch2a (Conv1D)         (None, 750, 32)      4128        activation_19[0][0]              \n",
      "__________________________________________________________________________________________________\n",
      "activation_20 (Activation)      (None, 750, 32)      0           res3d_branch2a[0][0]             \n",
      "__________________________________________________________________________________________________\n",
      "res3d_branch2b (Conv1D)         (None, 750, 32)      3104        activation_20[0][0]              \n",
      "__________________________________________________________________________________________________\n",
      "activation_21 (Activation)      (None, 750, 32)      0           res3d_branch2b[0][0]             \n",
      "__________________________________________________________________________________________________\n",
      "res3d_branch2c (Conv1D)         (None, 750, 128)     4224        activation_21[0][0]              \n",
      "__________________________________________________________________________________________________\n",
      "add_7 (Add)                     (None, 750, 128)     0           res3d_branch2c[0][0]             \n",
      "                                                                 activation_19[0][0]              \n",
      "__________________________________________________________________________________________________\n",
      "activation_22 (Activation)      (None, 750, 128)     0           add_7[0][0]                      \n",
      "__________________________________________________________________________________________________\n",
      "res4a_branch2a (Conv1D)         (None, 375, 64)      8256        activation_22[0][0]              \n",
      "__________________________________________________________________________________________________\n",
      "activation_23 (Activation)      (None, 375, 64)      0           res4a_branch2a[0][0]             \n",
      "__________________________________________________________________________________________________\n",
      "res4a_branch2b (Conv1D)         (None, 375, 64)      12352       activation_23[0][0]              \n",
      "__________________________________________________________________________________________________\n",
      "activation_24 (Activation)      (None, 375, 64)      0           res4a_branch2b[0][0]             \n",
      "__________________________________________________________________________________________________\n",
      "res4a_branch2c (Conv1D)         (None, 375, 256)     16640       activation_24[0][0]              \n",
      "__________________________________________________________________________________________________\n",
      "res4a_branch1 (Conv1D)          (None, 375, 256)     33024       activation_22[0][0]              \n",
      "__________________________________________________________________________________________________\n",
      "add_8 (Add)                     (None, 375, 256)     0           res4a_branch2c[0][0]             \n",
      "                                                                 res4a_branch1[0][0]              \n",
      "__________________________________________________________________________________________________\n",
      "activation_25 (Activation)      (None, 375, 256)     0           add_8[0][0]                      \n",
      "__________________________________________________________________________________________________\n",
      "res4b_branch2a (Conv1D)         (None, 375, 64)      16448       activation_25[0][0]              \n",
      "__________________________________________________________________________________________________\n",
      "activation_26 (Activation)      (None, 375, 64)      0           res4b_branch2a[0][0]             \n",
      "__________________________________________________________________________________________________\n",
      "res4b_branch2b (Conv1D)         (None, 375, 64)      12352       activation_26[0][0]              \n",
      "__________________________________________________________________________________________________\n",
      "activation_27 (Activation)      (None, 375, 64)      0           res4b_branch2b[0][0]             \n",
      "__________________________________________________________________________________________________\n",
      "res4b_branch2c (Conv1D)         (None, 375, 256)     16640       activation_27[0][0]              \n",
      "__________________________________________________________________________________________________\n",
      "add_9 (Add)                     (None, 375, 256)     0           res4b_branch2c[0][0]             \n",
      "                                                                 activation_25[0][0]              \n",
      "__________________________________________________________________________________________________\n",
      "activation_28 (Activation)      (None, 375, 256)     0           add_9[0][0]                      \n",
      "__________________________________________________________________________________________________\n",
      "res4c_branch2a (Conv1D)         (None, 375, 64)      16448       activation_28[0][0]              \n",
      "__________________________________________________________________________________________________\n",
      "activation_29 (Activation)      (None, 375, 64)      0           res4c_branch2a[0][0]             \n",
      "__________________________________________________________________________________________________\n",
      "res4c_branch2b (Conv1D)         (None, 375, 64)      12352       activation_29[0][0]              \n",
      "__________________________________________________________________________________________________\n",
      "activation_30 (Activation)      (None, 375, 64)      0           res4c_branch2b[0][0]             \n",
      "__________________________________________________________________________________________________\n",
      "res4c_branch2c (Conv1D)         (None, 375, 256)     16640       activation_30[0][0]              \n",
      "__________________________________________________________________________________________________\n",
      "add_10 (Add)                    (None, 375, 256)     0           res4c_branch2c[0][0]             \n",
      "                                                                 activation_28[0][0]              \n",
      "__________________________________________________________________________________________________\n",
      "activation_31 (Activation)      (None, 375, 256)     0           add_10[0][0]                     \n",
      "__________________________________________________________________________________________________\n",
      "res4d_branch2a (Conv1D)         (None, 375, 64)      16448       activation_31[0][0]              \n",
      "__________________________________________________________________________________________________\n",
      "activation_32 (Activation)      (None, 375, 64)      0           res4d_branch2a[0][0]             \n",
      "__________________________________________________________________________________________________\n",
      "res4d_branch2b (Conv1D)         (None, 375, 64)      12352       activation_32[0][0]              \n",
      "__________________________________________________________________________________________________\n",
      "activation_33 (Activation)      (None, 375, 64)      0           res4d_branch2b[0][0]             \n",
      "__________________________________________________________________________________________________\n",
      "res4d_branch2c (Conv1D)         (None, 375, 256)     16640       activation_33[0][0]              \n",
      "__________________________________________________________________________________________________\n",
      "add_11 (Add)                    (None, 375, 256)     0           res4d_branch2c[0][0]             \n",
      "                                                                 activation_31[0][0]              \n",
      "__________________________________________________________________________________________________\n",
      "activation_34 (Activation)      (None, 375, 256)     0           add_11[0][0]                     \n",
      "__________________________________________________________________________________________________\n",
      "res4e_branch2a (Conv1D)         (None, 375, 64)      16448       activation_34[0][0]              \n",
      "__________________________________________________________________________________________________\n",
      "activation_35 (Activation)      (None, 375, 64)      0           res4e_branch2a[0][0]             \n",
      "__________________________________________________________________________________________________\n",
      "res4e_branch2b (Conv1D)         (None, 375, 64)      12352       activation_35[0][0]              \n",
      "__________________________________________________________________________________________________\n",
      "activation_36 (Activation)      (None, 375, 64)      0           res4e_branch2b[0][0]             \n",
      "__________________________________________________________________________________________________\n",
      "res4e_branch2c (Conv1D)         (None, 375, 256)     16640       activation_36[0][0]              \n",
      "__________________________________________________________________________________________________\n",
      "add_12 (Add)                    (None, 375, 256)     0           res4e_branch2c[0][0]             \n",
      "                                                                 activation_34[0][0]              \n",
      "__________________________________________________________________________________________________\n",
      "activation_37 (Activation)      (None, 375, 256)     0           add_12[0][0]                     \n",
      "__________________________________________________________________________________________________\n",
      "res4f_branch2a (Conv1D)         (None, 375, 64)      16448       activation_37[0][0]              \n",
      "__________________________________________________________________________________________________\n",
      "activation_38 (Activation)      (None, 375, 64)      0           res4f_branch2a[0][0]             \n",
      "__________________________________________________________________________________________________\n",
      "res4f_branch2b (Conv1D)         (None, 375, 64)      12352       activation_38[0][0]              \n",
      "__________________________________________________________________________________________________\n",
      "activation_39 (Activation)      (None, 375, 64)      0           res4f_branch2b[0][0]             \n",
      "__________________________________________________________________________________________________\n",
      "res4f_branch2c (Conv1D)         (None, 375, 256)     16640       activation_39[0][0]              \n",
      "__________________________________________________________________________________________________\n",
      "add_13 (Add)                    (None, 375, 256)     0           res4f_branch2c[0][0]             \n",
      "                                                                 activation_37[0][0]              \n",
      "__________________________________________________________________________________________________\n",
      "activation_40 (Activation)      (None, 375, 256)     0           add_13[0][0]                     \n",
      "__________________________________________________________________________________________________\n",
      "res5a_branch2a (Conv1D)         (None, 188, 64)      16448       activation_40[0][0]              \n",
      "__________________________________________________________________________________________________\n",
      "activation_41 (Activation)      (None, 188, 64)      0           res5a_branch2a[0][0]             \n",
      "__________________________________________________________________________________________________\n",
      "res5a_branch2b (Conv1D)         (None, 188, 64)      12352       activation_41[0][0]              \n",
      "__________________________________________________________________________________________________\n",
      "activation_42 (Activation)      (None, 188, 64)      0           res5a_branch2b[0][0]             \n",
      "__________________________________________________________________________________________________\n",
      "res5a_branch2c (Conv1D)         (None, 188, 256)     16640       activation_42[0][0]              \n",
      "__________________________________________________________________________________________________\n",
      "res5a_branch1 (Conv1D)          (None, 188, 256)     65792       activation_40[0][0]              \n",
      "__________________________________________________________________________________________________\n",
      "add_14 (Add)                    (None, 188, 256)     0           res5a_branch2c[0][0]             \n",
      "                                                                 res5a_branch1[0][0]              \n",
      "__________________________________________________________________________________________________\n",
      "activation_43 (Activation)      (None, 188, 256)     0           add_14[0][0]                     \n",
      "__________________________________________________________________________________________________\n",
      "res5b_branch2a (Conv1D)         (None, 188, 64)      16448       activation_43[0][0]              \n",
      "__________________________________________________________________________________________________\n",
      "activation_44 (Activation)      (None, 188, 64)      0           res5b_branch2a[0][0]             \n",
      "__________________________________________________________________________________________________\n",
      "res5b_branch2b (Conv1D)         (None, 188, 64)      12352       activation_44[0][0]              \n",
      "__________________________________________________________________________________________________\n",
      "activation_45 (Activation)      (None, 188, 64)      0           res5b_branch2b[0][0]             \n",
      "__________________________________________________________________________________________________\n",
      "res5b_branch2c (Conv1D)         (None, 188, 256)     16640       activation_45[0][0]              \n",
      "__________________________________________________________________________________________________\n",
      "add_15 (Add)                    (None, 188, 256)     0           res5b_branch2c[0][0]             \n",
      "                                                                 activation_43[0][0]              \n",
      "__________________________________________________________________________________________________\n",
      "activation_46 (Activation)      (None, 188, 256)     0           add_15[0][0]                     \n",
      "__________________________________________________________________________________________________\n",
      "res5c_branch2a (Conv1D)         (None, 188, 64)      16448       activation_46[0][0]              \n",
      "__________________________________________________________________________________________________\n",
      "activation_47 (Activation)      (None, 188, 64)      0           res5c_branch2a[0][0]             \n",
      "__________________________________________________________________________________________________\n",
      "res5c_branch2b (Conv1D)         (None, 188, 64)      12352       activation_47[0][0]              \n",
      "__________________________________________________________________________________________________\n",
      "activation_48 (Activation)      (None, 188, 64)      0           res5c_branch2b[0][0]             \n",
      "__________________________________________________________________________________________________\n",
      "res5c_branch2c (Conv1D)         (None, 188, 256)     16640       activation_48[0][0]              \n",
      "__________________________________________________________________________________________________\n",
      "add_16 (Add)                    (None, 188, 256)     0           res5c_branch2c[0][0]             \n",
      "                                                                 activation_46[0][0]              \n",
      "__________________________________________________________________________________________________\n",
      "activation_49 (Activation)      (None, 188, 256)     0           add_16[0][0]                     \n",
      "__________________________________________________________________________________________________\n",
      "average_pooling1d_1 (AveragePoo (None, 37, 256)      0           activation_49[0][0]              \n",
      "__________________________________________________________________________________________________\n",
      "flatten_1 (Flatten)             (None, 9472)         0           average_pooling1d_1[0][0]        \n",
      "__________________________________________________________________________________________________\n",
      "dropout_1 (Dropout)             (None, 9472)         0           flatten_1[0][0]                  \n",
      "__________________________________________________________________________________________________\n",
      "fc-dense (Dense)                (None, 1)            9473        dropout_1[0][0]                  \n",
      "==================================================================================================\n",
      "Total params: 574,817\n",
      "Trainable params: 574,689\n",
      "Non-trainable params: 128\n",
      "__________________________________________________________________________________________________\n"
     ]
    }
   ],
   "source": [
    "keras.backend.clear_session()\n",
    "\n",
    "model = ResNet50(\n",
    "    input_shape=(30000, 1), \n",
    "    n_out=1)\n",
    "#model = load_model() \n",
    "\n",
    "model.compile(\n",
    "    loss = \"mse\",\n",
    "    optimizer = Adam(lr=0.0001),\n",
    "    metrics=['mae'])\n",
    "\n",
    "model.summary()"
   ]
  },
  {
   "cell_type": "code",
   "execution_count": 19,
   "metadata": {},
   "outputs": [],
   "source": [
    "batch_size=64\n",
    "epochs = 30\n",
    "\n",
    "# model = load_model('conv1d_length30000_batchNorm3.h5') "
   ]
  },
  {
   "cell_type": "code",
   "execution_count": 20,
   "metadata": {
    "scrolled": false
   },
   "outputs": [
    {
     "name": "stdout",
     "output_type": "stream",
     "text": [
      "WARNING:tensorflow:From /home/jun4/anaconda3/lib/python3.7/site-packages/tensorflow/python/ops/math_ops.py:3066: to_int32 (from tensorflow.python.ops.math_ops) is deprecated and will be removed in a future version.\n",
      "Instructions for updating:\n",
      "Use tf.cast instead.\n",
      "Train on 50320 samples, validate on 12580 samples\n",
      "Epoch 1/30\n",
      "50320/50320 [==============================] - 82s 2ms/step - loss: 58.1044 - mean_absolute_error: 3.5976 - val_loss: 8.3288 - val_mean_absolute_error: 2.2151\n",
      "\n",
      "Epoch 00001: val_loss improved from inf to 8.32877, saving model to ./Resnet50Conv1d_L2_model1_A/weights.001-8.329-2.215.hdf5\n",
      "Epoch 2/30\n",
      "50320/50320 [==============================] - 77s 2ms/step - loss: 8.9881 - mean_absolute_error: 2.3134 - val_loss: 7.9447 - val_mean_absolute_error: 2.1996\n",
      "\n",
      "Epoch 00002: val_loss improved from 8.32877 to 7.94468, saving model to ./Resnet50Conv1d_L2_model1_A/weights.002-7.945-2.200.hdf5\n",
      "Epoch 3/30\n",
      "50320/50320 [==============================] - 77s 2ms/step - loss: 8.4431 - mean_absolute_error: 2.2320 - val_loss: 8.7059 - val_mean_absolute_error: 2.1743\n",
      "\n",
      "Epoch 00003: val_loss did not improve from 7.94468\n",
      "Epoch 4/30\n",
      "50320/50320 [==============================] - 76s 2ms/step - loss: 8.2939 - mean_absolute_error: 2.2128 - val_loss: 7.8548 - val_mean_absolute_error: 2.1355\n",
      "\n",
      "Epoch 00004: val_loss improved from 7.94468 to 7.85484, saving model to ./Resnet50Conv1d_L2_model1_A/weights.004-7.855-2.135.hdf5\n",
      "Epoch 5/30\n",
      "50320/50320 [==============================] - 76s 2ms/step - loss: 8.2268 - mean_absolute_error: 2.2046 - val_loss: 7.9127 - val_mean_absolute_error: 2.1356\n",
      "\n",
      "Epoch 00005: val_loss did not improve from 7.85484\n",
      "Epoch 6/30\n",
      "50320/50320 [==============================] - 76s 2ms/step - loss: 8.1825 - mean_absolute_error: 2.2011 - val_loss: 8.1652 - val_mean_absolute_error: 2.1401\n",
      "\n",
      "Epoch 00006: val_loss did not improve from 7.85484\n",
      "Epoch 7/30\n",
      "50320/50320 [==============================] - 76s 2ms/step - loss: 8.1486 - mean_absolute_error: 2.1959 - val_loss: 7.9732 - val_mean_absolute_error: 2.1367\n",
      "\n",
      "Epoch 00007: val_loss did not improve from 7.85484\n",
      "Epoch 8/30\n",
      "50320/50320 [==============================] - 76s 2ms/step - loss: 8.0010 - mean_absolute_error: 2.1787 - val_loss: 7.7363 - val_mean_absolute_error: 2.1267\n",
      "\n",
      "Epoch 00008: val_loss improved from 7.85484 to 7.73633, saving model to ./Resnet50Conv1d_L2_model1_A/weights.008-7.736-2.127.hdf5\n",
      "Epoch 9/30\n",
      "50320/50320 [==============================] - 76s 2ms/step - loss: 8.0261 - mean_absolute_error: 2.1859 - val_loss: 7.7523 - val_mean_absolute_error: 2.1193\n",
      "\n",
      "Epoch 00009: val_loss did not improve from 7.73633\n",
      "Epoch 10/30\n",
      "50320/50320 [==============================] - 76s 2ms/step - loss: 7.9288 - mean_absolute_error: 2.1733 - val_loss: 7.5927 - val_mean_absolute_error: 2.1320\n",
      "\n",
      "Epoch 00010: val_loss improved from 7.73633 to 7.59266, saving model to ./Resnet50Conv1d_L2_model1_A/weights.010-7.593-2.132.hdf5\n",
      "Epoch 11/30\n",
      "50320/50320 [==============================] - 76s 2ms/step - loss: 7.8250 - mean_absolute_error: 2.1573 - val_loss: 7.5207 - val_mean_absolute_error: 2.1218\n",
      "\n",
      "Epoch 00011: val_loss improved from 7.59266 to 7.52066, saving model to ./Resnet50Conv1d_L2_model1_A/weights.011-7.521-2.122.hdf5\n",
      "Epoch 12/30\n",
      "50320/50320 [==============================] - 76s 2ms/step - loss: 7.7702 - mean_absolute_error: 2.1513 - val_loss: 7.5583 - val_mean_absolute_error: 2.0868\n",
      "\n",
      "Epoch 00012: val_loss did not improve from 7.52066\n",
      "Epoch 13/30\n",
      "50320/50320 [==============================] - 76s 2ms/step - loss: 7.5680 - mean_absolute_error: 2.1233 - val_loss: 7.3194 - val_mean_absolute_error: 2.0632\n",
      "\n",
      "Epoch 00013: val_loss improved from 7.52066 to 7.31942, saving model to ./Resnet50Conv1d_L2_model1_A/weights.013-7.319-2.063.hdf5\n",
      "Epoch 14/30\n",
      "50320/50320 [==============================] - 76s 2ms/step - loss: 7.3189 - mean_absolute_error: 2.0856 - val_loss: 7.0336 - val_mean_absolute_error: 2.0661\n",
      "\n",
      "Epoch 00014: val_loss improved from 7.31942 to 7.03362, saving model to ./Resnet50Conv1d_L2_model1_A/weights.014-7.034-2.066.hdf5\n",
      "Epoch 15/30\n",
      "50320/50320 [==============================] - 76s 2ms/step - loss: 6.9065 - mean_absolute_error: 2.0198 - val_loss: 6.4423 - val_mean_absolute_error: 1.9603\n",
      "\n",
      "Epoch 00015: val_loss improved from 7.03362 to 6.44229, saving model to ./Resnet50Conv1d_L2_model1_A/weights.015-6.442-1.960.hdf5\n",
      "Epoch 16/30\n",
      "50320/50320 [==============================] - 76s 2ms/step - loss: 6.3822 - mean_absolute_error: 1.9342 - val_loss: 5.9532 - val_mean_absolute_error: 1.8395\n",
      "\n",
      "Epoch 00016: val_loss improved from 6.44229 to 5.95321, saving model to ./Resnet50Conv1d_L2_model1_A/weights.016-5.953-1.840.hdf5\n",
      "Epoch 17/30\n",
      "50320/50320 [==============================] - 76s 2ms/step - loss: 5.5797 - mean_absolute_error: 1.7979 - val_loss: 5.0768 - val_mean_absolute_error: 1.7125\n",
      "\n",
      "Epoch 00017: val_loss improved from 5.95321 to 5.07678, saving model to ./Resnet50Conv1d_L2_model1_A/weights.017-5.077-1.713.hdf5\n",
      "Epoch 18/30\n",
      "50320/50320 [==============================] - 78s 2ms/step - loss: 4.8225 - mean_absolute_error: 1.6592 - val_loss: 4.3726 - val_mean_absolute_error: 1.5874\n",
      "\n",
      "Epoch 00018: val_loss improved from 5.07678 to 4.37261, saving model to ./Resnet50Conv1d_L2_model1_A/weights.018-4.373-1.587.hdf5\n",
      "Epoch 19/30\n",
      "50320/50320 [==============================] - 78s 2ms/step - loss: 4.0574 - mean_absolute_error: 1.5186 - val_loss: 3.9858 - val_mean_absolute_error: 1.5042\n",
      "\n",
      "Epoch 00019: val_loss improved from 4.37261 to 3.98575, saving model to ./Resnet50Conv1d_L2_model1_A/weights.019-3.986-1.504.hdf5\n",
      "Epoch 20/30\n",
      "50320/50320 [==============================] - 78s 2ms/step - loss: 3.4953 - mean_absolute_error: 1.4060 - val_loss: 4.3614 - val_mean_absolute_error: 1.6427\n",
      "\n",
      "Epoch 00020: val_loss did not improve from 3.98575\n",
      "Epoch 21/30\n",
      "50320/50320 [==============================] - 79s 2ms/step - loss: 3.1117 - mean_absolute_error: 1.3289 - val_loss: 3.0873 - val_mean_absolute_error: 1.3269\n",
      "\n",
      "Epoch 00021: val_loss improved from 3.98575 to 3.08732, saving model to ./Resnet50Conv1d_L2_model1_A/weights.021-3.087-1.327.hdf5\n",
      "Epoch 22/30\n",
      "50320/50320 [==============================] - 78s 2ms/step - loss: 2.6398 - mean_absolute_error: 1.2170 - val_loss: 2.5168 - val_mean_absolute_error: 1.1886\n",
      "\n",
      "Epoch 00022: val_loss improved from 3.08732 to 2.51684, saving model to ./Resnet50Conv1d_L2_model1_A/weights.022-2.517-1.189.hdf5\n",
      "Epoch 23/30\n",
      "50320/50320 [==============================] - 78s 2ms/step - loss: 2.3364 - mean_absolute_error: 1.1437 - val_loss: 2.3205 - val_mean_absolute_error: 1.1538\n",
      "\n",
      "Epoch 00023: val_loss improved from 2.51684 to 2.32048, saving model to ./Resnet50Conv1d_L2_model1_A/weights.023-2.320-1.154.hdf5\n",
      "Epoch 24/30\n",
      "50320/50320 [==============================] - 78s 2ms/step - loss: 2.1723 - mean_absolute_error: 1.1012 - val_loss: 1.7405 - val_mean_absolute_error: 0.9855\n",
      "\n",
      "Epoch 00024: val_loss improved from 2.32048 to 1.74053, saving model to ./Resnet50Conv1d_L2_model1_A/weights.024-1.741-0.986.hdf5\n",
      "Epoch 25/30\n",
      "50320/50320 [==============================] - 78s 2ms/step - loss: 2.0008 - mean_absolute_error: 1.0564 - val_loss: 1.6497 - val_mean_absolute_error: 0.9602\n",
      "\n",
      "Epoch 00025: val_loss improved from 1.74053 to 1.64966, saving model to ./Resnet50Conv1d_L2_model1_A/weights.025-1.650-0.960.hdf5\n",
      "Epoch 26/30\n",
      "50320/50320 [==============================] - 78s 2ms/step - loss: 1.8424 - mean_absolute_error: 1.0109 - val_loss: 1.6547 - val_mean_absolute_error: 0.9612\n",
      "\n",
      "Epoch 00026: val_loss did not improve from 1.64966\n",
      "Epoch 27/30\n",
      "50320/50320 [==============================] - 78s 2ms/step - loss: 1.5865 - mean_absolute_error: 0.9388 - val_loss: 1.8528 - val_mean_absolute_error: 1.0391\n",
      "\n",
      "Epoch 00027: val_loss did not improve from 1.64966\n",
      "Epoch 28/30\n",
      "50320/50320 [==============================] - 78s 2ms/step - loss: 1.4785 - mean_absolute_error: 0.9082 - val_loss: 1.5407 - val_mean_absolute_error: 0.9355\n",
      "\n",
      "Epoch 00028: val_loss improved from 1.64966 to 1.54070, saving model to ./Resnet50Conv1d_L2_model1_A/weights.028-1.541-0.936.hdf5\n",
      "Epoch 29/30\n",
      "50320/50320 [==============================] - 78s 2ms/step - loss: 1.3788 - mean_absolute_error: 0.8788 - val_loss: 1.1779 - val_mean_absolute_error: 0.8045\n",
      "\n",
      "Epoch 00029: val_loss improved from 1.54070 to 1.17794, saving model to ./Resnet50Conv1d_L2_model1_A/weights.029-1.178-0.804.hdf5\n"
     ]
    },
    {
     "name": "stdout",
     "output_type": "stream",
     "text": [
      "Epoch 30/30\n",
      "50320/50320 [==============================] - 77s 2ms/step - loss: 1.2790 - mean_absolute_error: 0.8444 - val_loss: 1.3087 - val_mean_absolute_error: 0.8613\n",
      "\n",
      "Epoch 00030: val_loss did not improve from 1.17794\n"
     ]
    }
   ],
   "source": [
    "checkpointer = ModelCheckpoint(\n",
    "    './Resnet50Conv1d_L2_model1_A/weights.{epoch:03d}-{val_loss:.3f}-{val_mean_absolute_error:.3f}.hdf5', \n",
    "    verbose=2, \n",
    "    save_best_only=True)\n",
    "\n",
    "history = model.fit(x_train, y_train, batch_size=batch_size, epochs=epochs, verbose=1, \n",
    "                    callbacks=[checkpointer], validation_data=(x_test, y_test))"
   ]
  },
  {
   "cell_type": "code",
   "execution_count": 21,
   "metadata": {},
   "outputs": [
    {
     "data": {
      "text/plain": [
       "<matplotlib.legend.Legend at 0x7fe3d8687e80>"
      ]
     },
     "execution_count": 21,
     "metadata": {},
     "output_type": "execute_result"
    },
    {
     "data": {
      "image/png": "[encoded data removed]",
      "text/plain": [
       "<Figure size 1080x360 with 2 Axes>"
      ]
     },
     "metadata": {
      "needs_background": "light"
     },
     "output_type": "display_data"
    }
   ],
   "source": [
    "fig, ax = plt.subplots(1, 2, figsize=(15,5))\n",
    "ax[0].set_title('loss')\n",
    "ax[0].plot(history.epoch, history.history[\"loss\"], label=\"Train loss\")\n",
    "ax[0].plot(history.epoch, history.history[\"val_loss\"], label=\"Validation loss\")\n",
    "ax[1].set_title('mean_absolute_error')\n",
    "ax[1].plot(history.epoch, history.history[\"mean_absolute_error\"], label=\"Train mae\")\n",
    "ax[1].plot(history.epoch, history.history[\"val_mean_absolute_error\"], label=\"Validation mae\")\n",
    "ax[0].legend()\n",
    "ax[1].legend()"
   ]
  },
  {
   "cell_type": "code",
   "execution_count": 22,
   "metadata": {},
   "outputs": [],
   "source": [
    "hist_df = pd.DataFrame(history.history) "
   ]
  },
  {
   "cell_type": "code",
   "execution_count": 26,
   "metadata": {},
   "outputs": [],
   "source": [
    "hist_csv_file = './Resnet50Conv1d_L2_model1_A/weights.029-1.178-0.804_history.csv'\n",
    "with open(hist_csv_file, mode='w') as f:\n",
    "    hist_df.to_csv(f, index=False)"
   ]
  },
  {
   "cell_type": "code",
   "execution_count": 27,
   "metadata": {},
   "outputs": [
    {
     "data": {
      "text/html": [
       "<div>\n",
       "<style scoped>\n",
       "    .dataframe tbody tr th:only-of-type {\n",
       "        vertical-align: middle;\n",
       "    }\n",
       "\n",
       "    .dataframe tbody tr th {\n",
       "        vertical-align: top;\n",
       "    }\n",
       "\n",
       "    .dataframe thead th {\n",
       "        text-align: right;\n",
       "    }\n",
       "</style>\n",
       "<table border=\"1\" class=\"dataframe\">\n",
       "  <thead>\n",
       "    <tr style=\"text-align: right;\">\n",
       "      <th></th>\n",
       "      <th>val_loss</th>\n",
       "      <th>val_mean_absolute_error</th>\n",
       "      <th>loss</th>\n",
       "      <th>mean_absolute_error</th>\n",
       "    </tr>\n",
       "  </thead>\n",
       "  <tbody>\n",
       "    <tr>\n",
       "      <th>0</th>\n",
       "      <td>8.328771281886746535860766016413</td>\n",
       "      <td>2.215086542593466489847742195707</td>\n",
       "      <td>58.104443138013394332119787577540</td>\n",
       "      <td>3.597627992432901766761688122642</td>\n",
       "    </tr>\n",
       "    <tr>\n",
       "      <th>1</th>\n",
       "      <td>7.944681794389442330839301575907</td>\n",
       "      <td>2.199572227186921580255329899956</td>\n",
       "      <td>8.988114432500161399275384610519</td>\n",
       "      <td>2.313436588081154265950090120896</td>\n",
       "    </tr>\n",
       "    <tr>\n",
       "      <th>2</th>\n",
       "      <td>8.705866491927251260563025425654</td>\n",
       "      <td>2.174321154608067185876052462845</td>\n",
       "      <td>8.443056220280537260691744450014</td>\n",
       "      <td>2.231954935965364317240755553939</td>\n",
       "    </tr>\n",
       "    <tr>\n",
       "      <th>3</th>\n",
       "      <td>7.854836655269555656389002251672</td>\n",
       "      <td>2.135493017721251884921684904839</td>\n",
       "      <td>8.293865335309828168419699068181</td>\n",
       "      <td>2.212810104715805081809776311275</td>\n",
       "    </tr>\n",
       "    <tr>\n",
       "      <th>4</th>\n",
       "      <td>7.912657871155366784421403281158</td>\n",
       "      <td>2.135584006210957674909423076315</td>\n",
       "      <td>8.226846895384674951401393627748</td>\n",
       "      <td>2.204607423955192491149546185625</td>\n",
       "    </tr>\n",
       "  </tbody>\n",
       "</table>\n",
       "</div>"
      ],
      "text/plain": [
       "                           val_loss           val_mean_absolute_error  \\\n",
       "0  8.328771281886746535860766016413  2.215086542593466489847742195707   \n",
       "1  7.944681794389442330839301575907  2.199572227186921580255329899956   \n",
       "2  8.705866491927251260563025425654  2.174321154608067185876052462845   \n",
       "3  7.854836655269555656389002251672  2.135493017721251884921684904839   \n",
       "4  7.912657871155366784421403281158  2.135584006210957674909423076315   \n",
       "\n",
       "                                loss               mean_absolute_error  \n",
       "0  58.104443138013394332119787577540  3.597627992432901766761688122642  \n",
       "1   8.988114432500161399275384610519  2.313436588081154265950090120896  \n",
       "2   8.443056220280537260691744450014  2.231954935965364317240755553939  \n",
       "3   8.293865335309828168419699068181  2.212810104715805081809776311275  \n",
       "4   8.226846895384674951401393627748  2.204607423955192491149546185625  "
      ]
     },
     "execution_count": 27,
     "metadata": {},
     "output_type": "execute_result"
    }
   ],
   "source": [
    "df_1 = pd.read_csv('./Resnet50Conv1d_L2_model1_A/weights.029-1.178-0.804_history.csv')\n",
    "df_1.head()"
   ]
  },
  {
   "cell_type": "code",
   "execution_count": 28,
   "metadata": {},
   "outputs": [],
   "source": [
    "load_model = load_model('./Resnet50Conv1d_L2_model1_A/weights.029-1.178-0.804.hdf5') "
   ]
  },
  {
   "cell_type": "code",
   "execution_count": 29,
   "metadata": {},
   "outputs": [],
   "source": [
    "def ave_pooling_x(x_s, step_size=5):\n",
    "    # pooling a single data point to 1/10 of the original length\n",
    "    n = len(x_s)//step_size \n",
    "    \n",
    "    x_temp = x_s[0:n*step_size].reshape(-1, step_size)    \n",
    "    x_ave = np.mean(x_temp, axis=1)    \n",
    "    return x_ave"
   ]
  },
  {
   "cell_type": "code",
   "execution_count": 30,
   "metadata": {},
   "outputs": [],
   "source": [
    "x = pd.read_csv('../test/' + \"seg_27de37.csv\")\n",
    "x = x['acoustic_data'].values"
   ]
  },
  {
   "cell_type": "code",
   "execution_count": 31,
   "metadata": {},
   "outputs": [],
   "source": [
    "def predict_resnet(x, load_model, step_size=5):\n",
    "    \n",
    "        arr_x = ave_pooling_x(x, step_size)\n",
    "        arr_x = np.expand_dims(arr_x, 1)\n",
    "        arr_x = np.expand_dims(arr_x, 0)\n",
    "        y_pred = load_model.predict(arr_x, batch_size=None, verbose=0, steps=None)\n",
    "        return y_pred"
   ]
  },
  {
   "cell_type": "code",
   "execution_count": 33,
   "metadata": {},
   "outputs": [],
   "source": [
    "# Load submission file\n",
    "submission = pd.read_csv('../sample_submission.csv', index_col='seg_id', dtype={\"time_to_failure\": np.float32})"
   ]
  },
  {
   "cell_type": "code",
   "execution_count": 34,
   "metadata": {},
   "outputs": [
    {
     "data": {
      "text/html": [
       "<div>\n",
       "<style scoped>\n",
       "    .dataframe tbody tr th:only-of-type {\n",
       "        vertical-align: middle;\n",
       "    }\n",
       "\n",
       "    .dataframe tbody tr th {\n",
       "        vertical-align: top;\n",
       "    }\n",
       "\n",
       "    .dataframe thead th {\n",
       "        text-align: right;\n",
       "    }\n",
       "</style>\n",
       "<table border=\"1\" class=\"dataframe\">\n",
       "  <thead>\n",
       "    <tr style=\"text-align: right;\">\n",
       "      <th></th>\n",
       "      <th>time_to_failure</th>\n",
       "    </tr>\n",
       "    <tr>\n",
       "      <th>seg_id</th>\n",
       "      <th></th>\n",
       "    </tr>\n",
       "  </thead>\n",
       "  <tbody>\n",
       "    <tr>\n",
       "      <th>seg_00030f</th>\n",
       "      <td>9.268905639648437500000</td>\n",
       "    </tr>\n",
       "    <tr>\n",
       "      <th>seg_0012b5</th>\n",
       "      <td>4.291700363159179687500</td>\n",
       "    </tr>\n",
       "    <tr>\n",
       "      <th>seg_00184e</th>\n",
       "      <td>6.128233909606933593750</td>\n",
       "    </tr>\n",
       "    <tr>\n",
       "      <th>seg_003339</th>\n",
       "      <td>7.477239131927490234375</td>\n",
       "    </tr>\n",
       "    <tr>\n",
       "      <th>seg_0042cc</th>\n",
       "      <td>5.315472602844238281250</td>\n",
       "    </tr>\n",
       "  </tbody>\n",
       "</table>\n",
       "</div>"
      ],
      "text/plain": [
       "                    time_to_failure\n",
       "seg_id                             \n",
       "seg_00030f  9.268905639648437500000\n",
       "seg_0012b5  4.291700363159179687500\n",
       "seg_00184e  6.128233909606933593750\n",
       "seg_003339  7.477239131927490234375\n",
       "seg_0042cc  5.315472602844238281250"
      ]
     },
     "execution_count": 34,
     "metadata": {},
     "output_type": "execute_result"
    }
   ],
   "source": [
    "# Load each test data, create the feature matrix, get numeric prediction\n",
    "for i, seg_id in enumerate(submission.index):\n",
    "  #  print(i)\n",
    "    seg = pd.read_csv('../test/' + seg_id + '.csv')\n",
    "    x = seg['acoustic_data'].values\n",
    "    y = predict_resnet(x, load_model)\n",
    "    submission.time_to_failure[i] = y[-1,0].item()\n",
    "\n",
    "submission.head()"
   ]
  },
  {
   "cell_type": "code",
   "execution_count": 35,
   "metadata": {},
   "outputs": [
    {
     "data": {
      "text/html": [
       "<div>\n",
       "<style scoped>\n",
       "    .dataframe tbody tr th:only-of-type {\n",
       "        vertical-align: middle;\n",
       "    }\n",
       "\n",
       "    .dataframe tbody tr th {\n",
       "        vertical-align: top;\n",
       "    }\n",
       "\n",
       "    .dataframe thead th {\n",
       "        text-align: right;\n",
       "    }\n",
       "</style>\n",
       "<table border=\"1\" class=\"dataframe\">\n",
       "  <thead>\n",
       "    <tr style=\"text-align: right;\">\n",
       "      <th></th>\n",
       "      <th>time_to_failure</th>\n",
       "    </tr>\n",
       "    <tr>\n",
       "      <th>seg_id</th>\n",
       "      <th></th>\n",
       "    </tr>\n",
       "  </thead>\n",
       "  <tbody>\n",
       "    <tr>\n",
       "      <th>seg_ff4236</th>\n",
       "      <td>3.2771511077880859375000</td>\n",
       "    </tr>\n",
       "    <tr>\n",
       "      <th>seg_ff7478</th>\n",
       "      <td>6.4921026229858398437500</td>\n",
       "    </tr>\n",
       "    <tr>\n",
       "      <th>seg_ff79d9</th>\n",
       "      <td>2.5247814655303955078125</td>\n",
       "    </tr>\n",
       "    <tr>\n",
       "      <th>seg_ffbd6a</th>\n",
       "      <td>7.1502723693847656250000</td>\n",
       "    </tr>\n",
       "    <tr>\n",
       "      <th>seg_ffe7cc</th>\n",
       "      <td>6.2811017036437988281250</td>\n",
       "    </tr>\n",
       "  </tbody>\n",
       "</table>\n",
       "</div>"
      ],
      "text/plain": [
       "                     time_to_failure\n",
       "seg_id                              \n",
       "seg_ff4236  3.2771511077880859375000\n",
       "seg_ff7478  6.4921026229858398437500\n",
       "seg_ff79d9  2.5247814655303955078125\n",
       "seg_ffbd6a  7.1502723693847656250000\n",
       "seg_ffe7cc  6.2811017036437988281250"
      ]
     },
     "execution_count": 35,
     "metadata": {},
     "output_type": "execute_result"
    }
   ],
   "source": [
    "submission.tail()"
   ]
  },
  {
   "cell_type": "code",
   "execution_count": 36,
   "metadata": {},
   "outputs": [],
   "source": [
    "submission.to_csv('./Resnet50Conv1d_L2_model1_A/Resnet50_test.csv')"
   ]
  }
 ],
 "metadata": {
  "kernelspec": {
   "display_name": "Python 3",
   "language": "python",
   "name": "python3"
  },
  "language_info": {
   "codemirror_mode": {
    "name": "ipython",
    "version": 3
   },
   "file_extension": ".py",
   "mimetype": "text/x-python",
   "name": "python",
   "nbconvert_exporter": "python",
   "pygments_lexer": "ipython3",
   "version": "3.7.3"
  }
 },
 "nbformat": 4,
 "nbformat_minor": 2
}
